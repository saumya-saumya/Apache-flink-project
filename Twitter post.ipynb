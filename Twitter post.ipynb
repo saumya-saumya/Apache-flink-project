{
 "cells": [
  {
   "cell_type": "code",
   "execution_count": 1,
   "metadata": {},
   "outputs": [],
   "source": [
    "import tweepy\n",
    "import pandas as pd"
   ]
  },
  {
   "cell_type": "code",
   "execution_count": 2,
   "metadata": {},
   "outputs": [],
   "source": [
    "consumer_key = 'gQ8ZvjCR2aMMHNGlqys8G0kIS' \n",
    "consumer_secret = 'YG9NQZutuqveVM0aziai7u2tzt7GYat2Gv9yqGSwCrXfTKmv8f'\n",
    "access_token = '1598568512-3xiPKK0nw9RRkIcBMGMSlQSWsxeSrC4RqNJynHU'\n",
    "access_token_secret = 'kQJRiuloYggbdKVewvcxNaT9m3lNimdb1VaDkPk3BrVhG'"
   ]
  },
  {
   "cell_type": "code",
   "execution_count": 3,
   "metadata": {},
   "outputs": [],
   "source": [
    "auth = tweepy.OAuthHandler(consumer_key, consumer_secret)\n",
    "auth.set_access_token(access_token, access_token_secret)"
   ]
  },
  {
   "cell_type": "code",
   "execution_count": 4,
   "metadata": {},
   "outputs": [],
   "source": [
    "api = tweepy.API(auth)"
   ]
  },
  {
   "cell_type": "code",
   "execution_count": 6,
   "metadata": {},
   "outputs": [
    {
     "name": "stdout",
     "output_type": "stream",
     "text": [
      "                            name                time  \\\n",
      "0                Jokerneverquits 2019-10-23 20:43:57   \n",
      "1                       E•MO•SON 2019-10-23 20:43:54   \n",
      "2                         Magnus 2019-10-23 20:43:52   \n",
      "3                      Budgiecat 2019-10-23 20:43:48   \n",
      "4  дешевый планшет большой экран 2019-10-23 20:43:47   \n",
      "\n",
      "                                               tweet  \n",
      "0  joker says : \"Never underestimate the power of...  \n",
      "1  western movies these days r just like Joker is...  \n",
      "2  @tomBOOIery Here I am trying to stop looking l...  \n",
      "3  @Parkers1243 @HuginsPL @austin_walker @SamuelA...  \n",
      "4                                       JOKER 2 BABY  \n"
     ]
    }
   ],
   "source": [
    "def get_related_tweets(key_word):\n",
    "    twitter_users = []\n",
    "    tweet_time = []\n",
    "    tweet_string = [] \n",
    "    for tweet in tweepy.Cursor(api.search,q=key_word, count=1000).items(1000):\n",
    "            if (not tweet.retweeted) and ('RT @' not in tweet.text):\n",
    "                if tweet.lang == \"en\":\n",
    "                    twitter_users.append(tweet.user.name)\n",
    "                    tweet_time.append(tweet.created_at)\n",
    "                    tweet_string.append(tweet.text)\n",
    "                    #print([tweet.user.name,tweet.created_at,tweet.text])\n",
    "    df = pd.DataFrame({'name':twitter_users, 'time': tweet_time, 'tweet': tweet_string})\n",
    "    return df\n",
    "df_bad = get_related_tweets(\"Joker\")\n",
    "print(df_bad.head(5))"
   ]
  },
  {
   "cell_type": "code",
   "execution_count": null,
   "metadata": {},
   "outputs": [],
   "source": []
  }
 ],
 "metadata": {
  "kernelspec": {
   "display_name": "Python 3",
   "language": "python",
   "name": "python3"
  },
  "language_info": {
   "codemirror_mode": {
    "name": "ipython",
    "version": 3
   },
   "file_extension": ".py",
   "mimetype": "text/x-python",
   "name": "python",
   "nbconvert_exporter": "python",
   "pygments_lexer": "ipython3",
   "version": "3.7.0"
  }
 },
 "nbformat": 4,
 "nbformat_minor": 2
}
